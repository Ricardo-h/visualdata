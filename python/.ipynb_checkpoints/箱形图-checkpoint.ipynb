{
 "cells": [
  {
   "cell_type": "markdown",
   "metadata": {},
   "source": [
    "# pyecharts"
   ]
  },
  {
   "cell_type": "code",
   "execution_count": null,
   "metadata": {},
   "outputs": [],
   "source": [
    "from pyecharts import options as opts\n",
    "from pyecharts.charts import Boxplot\n",
    "\n",
    "v1 = [\n",
    "    [850, 740, 900, 1070, 930, 850, 950, 980, 980, 880, 1000, 980],\n",
    "    [960, 940, 960, 940, 880, 800, 850, 880, 900, 840, 830, 790],\n",
    "]\n",
    "v2 = [\n",
    "    [890, 810, 810, 820, 800, 770, 760, 740, 750, 760, 910, 920],\n",
    "    [890, 840, 780, 810, 760, 810, 790, 810, 820, 850, 870, 870],\n",
    "]\n",
    "c = Boxplot()\n",
    "c.add_xaxis([\"expr1\", \"expr2\"])\n",
    "c.add_yaxis(\"A\", c.prepare_data(v1))\n",
    "c.add_yaxis(\"B\", c.prepare_data(v2))\n",
    "c.set_global_opts(title_opts=opts.TitleOpts(title=\"BoxPlot-基本示例\"))\n",
    "c.render(\"boxplot_base.html\")"
   ]
  },
  {
   "cell_type": "markdown",
   "metadata": {},
   "source": [
    "# seaborn"
   ]
  },
  {
   "cell_type": "markdown",
   "metadata": {},
   "source": [
    "# cufflinks"
   ]
  },
  {
   "cell_type": "code",
   "execution_count": null,
   "metadata": {},
   "outputs": [],
   "source": []
  }
 ],
 "metadata": {
  "kernelspec": {
   "display_name": "Python 3",
   "language": "python",
   "name": "python3"
  },
  "language_info": {
   "codemirror_mode": {
    "name": "ipython",
    "version": 3
   },
   "file_extension": ".py",
   "mimetype": "text/x-python",
   "name": "python",
   "nbconvert_exporter": "python",
   "pygments_lexer": "ipython3",
   "version": "3.7.6"
  }
 },
 "nbformat": 4,
 "nbformat_minor": 4
}
