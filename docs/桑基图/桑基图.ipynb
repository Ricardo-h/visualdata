{
 "cells": [
  {
   "cell_type": "markdown",
   "metadata": {},
   "source": [
    "# pyechart"
   ]
  },
  {
   "cell_type": "code",
   "execution_count": null,
   "metadata": {},
   "outputs": [],
   "source": [
    "import pandas as pd\n",
    "\n",
    "from pyecharts.charts import Sankey\n",
    "from pyecharts import options as opts\n",
    "\n",
    "\n",
    "df=pd.DataFrame({\n",
    "    '性别':['男','男','男','女','女','女'],\n",
    "               '熬夜原因':['打游戏','加班','看剧','打游戏','加班','看剧'],\n",
    "                       '人数':[57,13,30,33,5,62]\n",
    "                       })\n",
    "\n",
    "nodes=[]\n",
    "\n",
    "for i in range(2):\n",
    "    values = df.iloc[:,i].unique()\n",
    "    for value in values:\n",
    "        dic={}\n",
    "        dic['name']=value\n",
    "        nodes.append(dic)\n",
    "        \n",
    "linkes = []\n",
    "\n",
    "for i in df.values:\n",
    "    dic = {}\n",
    "    dic['source']=i[0]\n",
    "    dic['target']=i[1]\n",
    "    dic['value']=i[2]\n",
    "    linkes.append(dic)\n",
    "\n",
    "\n",
    "pic = (\n",
    "    Sankey()\n",
    "    .add('', #图例名称\n",
    "         nodes,    #传入节点数据\n",
    "         linkes,   #传入边和流量数据\n",
    "         #设置透明度、弯曲度、颜色\n",
    "         linestyle_opt=opts.LineStyleOpts(opacity = 0.3, curve = 0.5, color = \"source\"),\n",
    "         #标签显示位置\n",
    "         label_opts=opts.LabelOpts(position=\"right\"),\n",
    "         #节点之前的距离\n",
    "         node_gap = 30,\n",
    "    )\n",
    "    .set_global_opts(title_opts=opts.TitleOpts(title = '熬夜原因桑基图'))\n",
    ")\n",
    "\n",
    "pic.render('test.html')"
   ]
  },
  {
   "cell_type": "code",
   "execution_count": null,
   "metadata": {},
   "outputs": [],
   "source": []
  }
 ],
 "metadata": {
  "kernelspec": {
   "display_name": "Python 3",
   "language": "python",
   "name": "python3"
  },
  "language_info": {
   "codemirror_mode": {
    "name": "ipython",
    "version": 3
   },
   "file_extension": ".py",
   "mimetype": "text/x-python",
   "name": "python",
   "nbconvert_exporter": "python",
   "pygments_lexer": "ipython3",
   "version": "3.7.6"
  }
 },
 "nbformat": 4,
 "nbformat_minor": 4
}
