{
 "cells": [
  {
   "cell_type": "markdown",
   "metadata": {},
   "source": [
    "# pyecharts"
   ]
  },
  {
   "cell_type": "code",
   "execution_count": 18,
   "metadata": {},
   "outputs": [],
   "source": [
    "from pyecharts import options as opts\n",
    "from pyecharts.charts import Bar\n",
    "\n",
    "c = (\n",
    "    Bar()\n",
    "    .add_xaxis(\n",
    "        [\n",
    "            \"名字很长的X轴标签1\",\n",
    "            \"名字很长的X轴标签2\",\n",
    "            \"名字很长的X轴标签3\",\n",
    "            \"名字很长的X轴标签4\",\n",
    "            \"名字很长的X轴标签5\",\n",
    "            \"名字很长的X轴标签6\",\n",
    "        ]\n",
    "    )\n",
    "    .add_yaxis(\"商家A\", [10, 20, 30, 40, 50, 40])\n",
    "    .add_yaxis(\"商家B\", [20, 10, 40, 30, 40, 50])\n",
    "    .set_global_opts(\n",
    "        xaxis_opts=opts.AxisOpts(axislabel_opts=opts.LabelOpts(rotate=-15)),\n",
    "        title_opts=opts.TitleOpts(title=\"Bar-旋转X轴标签\", subtitle=\"解决标签名字过长的问题\"),\n",
    "    )\n",
    "    .render(\"bar_rotate_xaxis_label.html\")\n",
    ")"
   ]
  },
  {
   "cell_type": "markdown",
   "metadata": {},
   "source": [
    "# seaborn"
   ]
  },
  {
   "cell_type": "code",
   "execution_count": 4,
   "metadata": {},
   "outputs": [
    {
     "data": {
      "text/plain": [
       "<matplotlib.axes._subplots.AxesSubplot at 0x7f65ea665050>"
      ]
     },
     "execution_count": 4,
     "metadata": {},
     "output_type": "execute_result"
    },
    {
     "data": {
      "image/png": "[encoded data removed]",
      "text/plain": [
       "<Figure size 432x288 with 1 Axes>"
      ]
     },
     "metadata": {
      "needs_background": "light"
     },
     "output_type": "display_data"
    }
   ],
   "source": [
    "import numpy as np\n",
    "import pandas as pd\n",
    "import seaborn as sns\n",
    "a=np.arange(40).reshape(10,4)\n",
    "df=pd.DataFrame(a,columns=['a','b','c','d'])\n",
    "df['a']=[0,4,4,8,8,8,4,12,12,12]\n",
    "df['d']=list('aabbabbbab')\n",
    "sns.barplot(x='a',y='b',data=df,hue='d')\n",
    "\n",
    "\"\"\"\n",
    "hue：指定分类变量，其使用示例如下，左图是不使用hue参数时的图形，右图是使用hue的图形\n",
    "estimator：设置每一个label上显示的统计量类型,默认为平均值，可修改为最大值、中位值等。注意，若修改为非平均值，那么前面所提到的误差线都需要做修改，因为前面的误差线解释都是基于平均值的。\n",
    "ci：在seaborn.barplot()中误差线默认表示的是均值的置信区间，因此当ci为(0,100)间的值时表示置信区间的置信度，默认为95；ci还可以取值为'sd'，此时误差线表示的是标准误差；当ci取值为None时，则不显示误差线\n",
    "n_boot：计算代表置信区间的误差线时，默认会采用bootstrap抽样方法(在样本量较小时比较有用)，该参数控制bootstrap抽样的次数\n",
    "units：该参数的解释我暂时还未弄明白\n",
    "orient：设置柱状图水平绘制还是竖直绘制，\"h\"表示水平，“v”表示竖直。\n",
    "color：设置bar的颜色，这里似乎用于将所有的bar设置为同一种颜色\n",
    "pattle：调色板，设置bar的以不同颜色显示，所有的颜色选择都要是matplotlib是能识别的颜色\n",
    "saturation：设置颜色的饱和度取值为[0,1]间\n",
    "errcolor：设置误差线的颜色，默认为黑色\n",
    "errwidth：设置误差线的显示线宽\n",
    "capsize：设置误差线顶部、底端处横线的显示长度\n",
    "dodge：当使用分类参数“hue”时，可以通过dodge参数设置是将不同的类分别用一个bar表示，还是在一个bar上通过不同颜色表示，下图总左边是dodge=True，右边是dodge=False，默认为True。\n",
    "ax：选择将图形显示在哪个Axes对象上，默认为当前Axes对象\n",
    "kwargs：matplotlib.plot.bar()中其它的参数\n",
    "\"\"\""
   ]
  }
 ],
 "metadata": {
  "kernelspec": {
   "display_name": "Python 3",
   "language": "python",
   "name": "python3"
  },
  "language_info": {
   "codemirror_mode": {
    "name": "ipython",
    "version": 3
   },
   "file_extension": ".py",
   "mimetype": "text/x-python",
   "name": "python",
   "nbconvert_exporter": "python",
   "pygments_lexer": "ipython3",
   "version": "3.7.6"
  }
 },
 "nbformat": 4,
 "nbformat_minor": 4
}
